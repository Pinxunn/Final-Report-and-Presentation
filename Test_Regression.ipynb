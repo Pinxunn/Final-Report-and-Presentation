{
  "nbformat": 4,
  "nbformat_minor": 0,
  "metadata": {
    "colab": {
      "provenance": []
    },
    "kernelspec": {
      "name": "python3",
      "display_name": "Python 3"
    },
    "language_info": {
      "name": "python"
    }
  },
  "cells": [
    {
      "cell_type": "code",
      "source": [
        "import pickle\n",
        "from sklearn import model_selection\n",
        "from sklearn.linear_model import LogisticRegression\n",
        "from sklearn.metrics import confusion_matrix"
      ],
      "metadata": {
        "id": "qmR-4Zcm0DeB"
      },
      "execution_count": 2,
      "outputs": []
    },
    {
      "cell_type": "code",
      "execution_count": null,
      "metadata": {
        "id": "Jp4Inuk-znIi"
      },
      "outputs": [],
      "source": [
        "3_fts_model = pickle.load(open(\"lg_3_features\", 'rb'))\n",
        "# result = 3_fts_model.score()"
      ]
    },
    {
      "cell_type": "code",
      "source": [
        "DESPLd_DESWLltd_model = pickle.load(open(\"lg_DESPLd_DESWLltd\", 'rb'))\n",
        "# result = DESPLd_DESWLltd_model.score()"
      ],
      "metadata": {
        "id": "ylgkobmJ1BFn"
      },
      "execution_count": null,
      "outputs": []
    },
    {
      "cell_type": "code",
      "source": [
        "DESPLd_WORD_PROPERTY_WRDHYPn_model = pickle.load(open(\"lg_DESPLd_WORD_PROPERTY_WRDHYPn\", 'rb'))\n",
        "# result = DESPLd_WORD_PROPERTY_WRDHYPn_model.score()"
      ],
      "metadata": {
        "id": "vncrw9Aq1EiN"
      },
      "execution_count": null,
      "outputs": []
    },
    {
      "cell_type": "code",
      "source": [
        "DESWLltd_model = pickle.load(open(\"lg_DESWLltd\", 'rb'))\n",
        "# result = 3DESWLltd_model.score()"
      ],
      "metadata": {
        "id": "XGgUxXKe1EdB"
      },
      "execution_count": null,
      "outputs": []
    },
    {
      "cell_type": "code",
      "source": [
        "DESWLltd_WORD_PROPERTY_WRDHYPn_model = pickle.load(open(\"lg_DESWLltd_WORD_PROPERTY_WRDHYPn\", 'rb'))\n",
        "# result = DESWLltd_WORD_PROPERTY_WRDHYPn_model.score()"
      ],
      "metadata": {
        "id": "xI9R9Cxs1GFR"
      },
      "execution_count": null,
      "outputs": []
    }
  ]
}