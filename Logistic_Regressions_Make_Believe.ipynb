{
  "nbformat": 4,
  "nbformat_minor": 0,
  "metadata": {
    "colab": {
      "provenance": []
    },
    "kernelspec": {
      "name": "python3",
      "display_name": "Python 3"
    },
    "language_info": {
      "name": "python"
    }
  },
  "cells": [
    {
      "cell_type": "code",
      "execution_count": 84,
      "metadata": {
        "id": "OPqhsMkzE6Oa"
      },
      "outputs": [],
      "source": [
        "import pandas as pd\n",
        "import numpy as np\n",
        "import matplotlib.pyplot as plt\n",
        "import seaborn as sns\n",
        "\n",
        "\n",
        "# from google.colab import drive\n",
        "# drive.mount('/content/drive')"
      ]
    },
    {
      "cell_type": "code",
      "source": [
        "raw_data = pd.read_csv(\"fakenews_data.csv\")"
      ],
      "metadata": {
        "id": "zrGQVqjRlBbD"
      },
      "execution_count": 85,
      "outputs": []
    },
    {
      "cell_type": "code",
      "source": [
        "raw_data.Polarity[raw_data.Polarity == 'Fake'] = 0\n",
        "raw_data.Polarity[raw_data.Polarity == 'TRUE'] = 1"
      ],
      "metadata": {
        "id": "vQ16Te2klGd6"
      },
      "execution_count": 86,
      "outputs": []
    },
    {
      "cell_type": "code",
      "source": [
        "raw_data"
      ],
      "metadata": {
        "colab": {
          "base_uri": "https://localhost:8080/",
          "height": 423
        },
        "id": "AVuIigQbmCH8",
        "outputId": "03b9c074-a543-4def-b629-4f89c01520ee"
      },
      "execution_count": 87,
      "outputs": [
        {
          "output_type": "execute_result",
          "data": {
            "text/plain": [
              "    Polarity                                               Text\n",
              "0          0  Universities Agree with Trump on Immigration\\n...\n",
              "1          0  Chris Pratt responds to body shamers telling h...\n",
              "2          0  \"Dancing With the Stars\": First couple won the...\n",
              "3          0  Brian Cox hosts scientist Postman Pat\\n\\nProfe...\n",
              "4          0  London Stock Exchange has dropped Merger with ...\n",
              "..       ...                                                ...\n",
              "475        1  Jason Witten signs new four-year deal with Dal...\n",
              "476        1  Google Maps can tell your friends exactly wher...\n",
              "477        1  Let there be light: German scientists test 'ar...\n",
              "478        1   Roger Federer beats Frances Tiafoe on return ...\n",
              "479        1   Elon Musk creates Neuralink brain electrode f...\n",
              "\n",
              "[480 rows x 2 columns]"
            ],
            "text/html": [
              "\n",
              "  <div id=\"df-c6ab6943-0f4a-4fab-8ca2-40cd4d1afabf\" class=\"colab-df-container\">\n",
              "    <div>\n",
              "<style scoped>\n",
              "    .dataframe tbody tr th:only-of-type {\n",
              "        vertical-align: middle;\n",
              "    }\n",
              "\n",
              "    .dataframe tbody tr th {\n",
              "        vertical-align: top;\n",
              "    }\n",
              "\n",
              "    .dataframe thead th {\n",
              "        text-align: right;\n",
              "    }\n",
              "</style>\n",
              "<table border=\"1\" class=\"dataframe\">\n",
              "  <thead>\n",
              "    <tr style=\"text-align: right;\">\n",
              "      <th></th>\n",
              "      <th>Polarity</th>\n",
              "      <th>Text</th>\n",
              "    </tr>\n",
              "  </thead>\n",
              "  <tbody>\n",
              "    <tr>\n",
              "      <th>0</th>\n",
              "      <td>0</td>\n",
              "      <td>Universities Agree with Trump on Immigration\\n...</td>\n",
              "    </tr>\n",
              "    <tr>\n",
              "      <th>1</th>\n",
              "      <td>0</td>\n",
              "      <td>Chris Pratt responds to body shamers telling h...</td>\n",
              "    </tr>\n",
              "    <tr>\n",
              "      <th>2</th>\n",
              "      <td>0</td>\n",
              "      <td>\"Dancing With the Stars\": First couple won the...</td>\n",
              "    </tr>\n",
              "    <tr>\n",
              "      <th>3</th>\n",
              "      <td>0</td>\n",
              "      <td>Brian Cox hosts scientist Postman Pat\\n\\nProfe...</td>\n",
              "    </tr>\n",
              "    <tr>\n",
              "      <th>4</th>\n",
              "      <td>0</td>\n",
              "      <td>London Stock Exchange has dropped Merger with ...</td>\n",
              "    </tr>\n",
              "    <tr>\n",
              "      <th>...</th>\n",
              "      <td>...</td>\n",
              "      <td>...</td>\n",
              "    </tr>\n",
              "    <tr>\n",
              "      <th>475</th>\n",
              "      <td>1</td>\n",
              "      <td>Jason Witten signs new four-year deal with Dal...</td>\n",
              "    </tr>\n",
              "    <tr>\n",
              "      <th>476</th>\n",
              "      <td>1</td>\n",
              "      <td>Google Maps can tell your friends exactly wher...</td>\n",
              "    </tr>\n",
              "    <tr>\n",
              "      <th>477</th>\n",
              "      <td>1</td>\n",
              "      <td>Let there be light: German scientists test 'ar...</td>\n",
              "    </tr>\n",
              "    <tr>\n",
              "      <th>478</th>\n",
              "      <td>1</td>\n",
              "      <td>Roger Federer beats Frances Tiafoe on return ...</td>\n",
              "    </tr>\n",
              "    <tr>\n",
              "      <th>479</th>\n",
              "      <td>1</td>\n",
              "      <td>Elon Musk creates Neuralink brain electrode f...</td>\n",
              "    </tr>\n",
              "  </tbody>\n",
              "</table>\n",
              "<p>480 rows × 2 columns</p>\n",
              "</div>\n",
              "    <div class=\"colab-df-buttons\">\n",
              "\n",
              "  <div class=\"colab-df-container\">\n",
              "    <button class=\"colab-df-convert\" onclick=\"convertToInteractive('df-c6ab6943-0f4a-4fab-8ca2-40cd4d1afabf')\"\n",
              "            title=\"Convert this dataframe to an interactive table.\"\n",
              "            style=\"display:none;\">\n",
              "\n",
              "  <svg xmlns=\"http://www.w3.org/2000/svg\" height=\"24px\" viewBox=\"0 -960 960 960\">\n",
              "    <path d=\"M120-120v-720h720v720H120Zm60-500h600v-160H180v160Zm220 220h160v-160H400v160Zm0 220h160v-160H400v160ZM180-400h160v-160H180v160Zm440 0h160v-160H620v160ZM180-180h160v-160H180v160Zm440 0h160v-160H620v160Z\"/>\n",
              "  </svg>\n",
              "    </button>\n",
              "\n",
              "  <style>\n",
              "    .colab-df-container {\n",
              "      display:flex;\n",
              "      gap: 12px;\n",
              "    }\n",
              "\n",
              "    .colab-df-convert {\n",
              "      background-color: #E8F0FE;\n",
              "      border: none;\n",
              "      border-radius: 50%;\n",
              "      cursor: pointer;\n",
              "      display: none;\n",
              "      fill: #1967D2;\n",
              "      height: 32px;\n",
              "      padding: 0 0 0 0;\n",
              "      width: 32px;\n",
              "    }\n",
              "\n",
              "    .colab-df-convert:hover {\n",
              "      background-color: #E2EBFA;\n",
              "      box-shadow: 0px 1px 2px rgba(60, 64, 67, 0.3), 0px 1px 3px 1px rgba(60, 64, 67, 0.15);\n",
              "      fill: #174EA6;\n",
              "    }\n",
              "\n",
              "    .colab-df-buttons div {\n",
              "      margin-bottom: 4px;\n",
              "    }\n",
              "\n",
              "    [theme=dark] .colab-df-convert {\n",
              "      background-color: #3B4455;\n",
              "      fill: #D2E3FC;\n",
              "    }\n",
              "\n",
              "    [theme=dark] .colab-df-convert:hover {\n",
              "      background-color: #434B5C;\n",
              "      box-shadow: 0px 1px 3px 1px rgba(0, 0, 0, 0.15);\n",
              "      filter: drop-shadow(0px 1px 2px rgba(0, 0, 0, 0.3));\n",
              "      fill: #FFFFFF;\n",
              "    }\n",
              "  </style>\n",
              "\n",
              "    <script>\n",
              "      const buttonEl =\n",
              "        document.querySelector('#df-c6ab6943-0f4a-4fab-8ca2-40cd4d1afabf button.colab-df-convert');\n",
              "      buttonEl.style.display =\n",
              "        google.colab.kernel.accessAllowed ? 'block' : 'none';\n",
              "\n",
              "      async function convertToInteractive(key) {\n",
              "        const element = document.querySelector('#df-c6ab6943-0f4a-4fab-8ca2-40cd4d1afabf');\n",
              "        const dataTable =\n",
              "          await google.colab.kernel.invokeFunction('convertToInteractive',\n",
              "                                                    [key], {});\n",
              "        if (!dataTable) return;\n",
              "\n",
              "        const docLinkHtml = 'Like what you see? Visit the ' +\n",
              "          '<a target=\"_blank\" href=https://colab.research.google.com/notebooks/data_table.ipynb>data table notebook</a>'\n",
              "          + ' to learn more about interactive tables.';\n",
              "        element.innerHTML = '';\n",
              "        dataTable['output_type'] = 'display_data';\n",
              "        await google.colab.output.renderOutput(dataTable, element);\n",
              "        const docLink = document.createElement('div');\n",
              "        docLink.innerHTML = docLinkHtml;\n",
              "        element.appendChild(docLink);\n",
              "      }\n",
              "    </script>\n",
              "  </div>\n",
              "\n",
              "\n",
              "<div id=\"df-6f07bf9c-829f-42f0-8818-e482063fb0aa\">\n",
              "  <button class=\"colab-df-quickchart\" onclick=\"quickchart('df-6f07bf9c-829f-42f0-8818-e482063fb0aa')\"\n",
              "            title=\"Suggest charts\"\n",
              "            style=\"display:none;\">\n",
              "\n",
              "<svg xmlns=\"http://www.w3.org/2000/svg\" height=\"24px\"viewBox=\"0 0 24 24\"\n",
              "     width=\"24px\">\n",
              "    <g>\n",
              "        <path d=\"M19 3H5c-1.1 0-2 .9-2 2v14c0 1.1.9 2 2 2h14c1.1 0 2-.9 2-2V5c0-1.1-.9-2-2-2zM9 17H7v-7h2v7zm4 0h-2V7h2v10zm4 0h-2v-4h2v4z\"/>\n",
              "    </g>\n",
              "</svg>\n",
              "  </button>\n",
              "\n",
              "<style>\n",
              "  .colab-df-quickchart {\n",
              "      --bg-color: #E8F0FE;\n",
              "      --fill-color: #1967D2;\n",
              "      --hover-bg-color: #E2EBFA;\n",
              "      --hover-fill-color: #174EA6;\n",
              "      --disabled-fill-color: #AAA;\n",
              "      --disabled-bg-color: #DDD;\n",
              "  }\n",
              "\n",
              "  [theme=dark] .colab-df-quickchart {\n",
              "      --bg-color: #3B4455;\n",
              "      --fill-color: #D2E3FC;\n",
              "      --hover-bg-color: #434B5C;\n",
              "      --hover-fill-color: #FFFFFF;\n",
              "      --disabled-bg-color: #3B4455;\n",
              "      --disabled-fill-color: #666;\n",
              "  }\n",
              "\n",
              "  .colab-df-quickchart {\n",
              "    background-color: var(--bg-color);\n",
              "    border: none;\n",
              "    border-radius: 50%;\n",
              "    cursor: pointer;\n",
              "    display: none;\n",
              "    fill: var(--fill-color);\n",
              "    height: 32px;\n",
              "    padding: 0;\n",
              "    width: 32px;\n",
              "  }\n",
              "\n",
              "  .colab-df-quickchart:hover {\n",
              "    background-color: var(--hover-bg-color);\n",
              "    box-shadow: 0 1px 2px rgba(60, 64, 67, 0.3), 0 1px 3px 1px rgba(60, 64, 67, 0.15);\n",
              "    fill: var(--button-hover-fill-color);\n",
              "  }\n",
              "\n",
              "  .colab-df-quickchart-complete:disabled,\n",
              "  .colab-df-quickchart-complete:disabled:hover {\n",
              "    background-color: var(--disabled-bg-color);\n",
              "    fill: var(--disabled-fill-color);\n",
              "    box-shadow: none;\n",
              "  }\n",
              "\n",
              "  .colab-df-spinner {\n",
              "    border: 2px solid var(--fill-color);\n",
              "    border-color: transparent;\n",
              "    border-bottom-color: var(--fill-color);\n",
              "    animation:\n",
              "      spin 1s steps(1) infinite;\n",
              "  }\n",
              "\n",
              "  @keyframes spin {\n",
              "    0% {\n",
              "      border-color: transparent;\n",
              "      border-bottom-color: var(--fill-color);\n",
              "      border-left-color: var(--fill-color);\n",
              "    }\n",
              "    20% {\n",
              "      border-color: transparent;\n",
              "      border-left-color: var(--fill-color);\n",
              "      border-top-color: var(--fill-color);\n",
              "    }\n",
              "    30% {\n",
              "      border-color: transparent;\n",
              "      border-left-color: var(--fill-color);\n",
              "      border-top-color: var(--fill-color);\n",
              "      border-right-color: var(--fill-color);\n",
              "    }\n",
              "    40% {\n",
              "      border-color: transparent;\n",
              "      border-right-color: var(--fill-color);\n",
              "      border-top-color: var(--fill-color);\n",
              "    }\n",
              "    60% {\n",
              "      border-color: transparent;\n",
              "      border-right-color: var(--fill-color);\n",
              "    }\n",
              "    80% {\n",
              "      border-color: transparent;\n",
              "      border-right-color: var(--fill-color);\n",
              "      border-bottom-color: var(--fill-color);\n",
              "    }\n",
              "    90% {\n",
              "      border-color: transparent;\n",
              "      border-bottom-color: var(--fill-color);\n",
              "    }\n",
              "  }\n",
              "</style>\n",
              "\n",
              "  <script>\n",
              "    async function quickchart(key) {\n",
              "      const quickchartButtonEl =\n",
              "        document.querySelector('#' + key + ' button');\n",
              "      quickchartButtonEl.disabled = true;  // To prevent multiple clicks.\n",
              "      quickchartButtonEl.classList.add('colab-df-spinner');\n",
              "      try {\n",
              "        const charts = await google.colab.kernel.invokeFunction(\n",
              "            'suggestCharts', [key], {});\n",
              "      } catch (error) {\n",
              "        console.error('Error during call to suggestCharts:', error);\n",
              "      }\n",
              "      quickchartButtonEl.classList.remove('colab-df-spinner');\n",
              "      quickchartButtonEl.classList.add('colab-df-quickchart-complete');\n",
              "    }\n",
              "    (() => {\n",
              "      let quickchartButtonEl =\n",
              "        document.querySelector('#df-6f07bf9c-829f-42f0-8818-e482063fb0aa button');\n",
              "      quickchartButtonEl.style.display =\n",
              "        google.colab.kernel.accessAllowed ? 'block' : 'none';\n",
              "    })();\n",
              "  </script>\n",
              "</div>\n",
              "    </div>\n",
              "  </div>\n"
            ]
          },
          "metadata": {},
          "execution_count": 87
        }
      ]
    },
    {
      "cell_type": "markdown",
      "source": [
        "load the three_final_features.csv"
      ],
      "metadata": {
        "id": "GHmaWBioFSf8"
      }
    },
    {
      "cell_type": "code",
      "source": [
        "final_fts = pd.read_csv(\"three_final_features.csv\")\n"
      ],
      "metadata": {
        "id": "SRqSoRgNFMC6"
      },
      "execution_count": 88,
      "outputs": []
    },
    {
      "cell_type": "code",
      "source": [
        "final_fts.shape #indexes are split and start from 0, change from polarity at 239"
      ],
      "metadata": {
        "colab": {
          "base_uri": "https://localhost:8080/"
        },
        "id": "PXt7jq62Frpx",
        "outputId": "08c04961-6878-412f-fcb5-0a889550c0ed"
      },
      "execution_count": 89,
      "outputs": [
        {
          "output_type": "execute_result",
          "data": {
            "text/plain": [
              "(480, 4)"
            ]
          },
          "metadata": {},
          "execution_count": 89
        }
      ]
    },
    {
      "cell_type": "code",
      "source": [
        "final_fts"
      ],
      "metadata": {
        "colab": {
          "base_uri": "https://localhost:8080/",
          "height": 423
        },
        "id": "URtLaGA-F6gL",
        "outputId": "430508c9-ed29-48c0-9206-bd8fd51744dd"
      },
      "execution_count": 90,
      "outputs": [
        {
          "output_type": "execute_result",
          "data": {
            "text/plain": [
              "       DESPLd  DESWLltd  WORD_PROPERTY_WRDHYPn  Polarity\n",
              "0    0.000000  0.998218               0.244583         0\n",
              "1    0.272727  0.221451               0.267995         0\n",
              "2    0.363636  0.198063               0.471208         0\n",
              "3    0.272727  0.212835               0.467174         0\n",
              "4    0.454545  0.225762               0.622575         0\n",
              "..        ...       ...                    ...       ...\n",
              "475  0.176471  0.062359               0.506349         1\n",
              "476  0.037203  0.000000               0.455246         1\n",
              "477  0.048029  0.095503               0.592211         1\n",
              "478  0.352941  0.066419               0.492107         1\n",
              "479  0.058824  0.121201               0.633193         1\n",
              "\n",
              "[480 rows x 4 columns]"
            ],
            "text/html": [
              "\n",
              "  <div id=\"df-bccad4fa-1ad1-4367-9ef7-c08d8a62e2c5\" class=\"colab-df-container\">\n",
              "    <div>\n",
              "<style scoped>\n",
              "    .dataframe tbody tr th:only-of-type {\n",
              "        vertical-align: middle;\n",
              "    }\n",
              "\n",
              "    .dataframe tbody tr th {\n",
              "        vertical-align: top;\n",
              "    }\n",
              "\n",
              "    .dataframe thead th {\n",
              "        text-align: right;\n",
              "    }\n",
              "</style>\n",
              "<table border=\"1\" class=\"dataframe\">\n",
              "  <thead>\n",
              "    <tr style=\"text-align: right;\">\n",
              "      <th></th>\n",
              "      <th>DESPLd</th>\n",
              "      <th>DESWLltd</th>\n",
              "      <th>WORD_PROPERTY_WRDHYPn</th>\n",
              "      <th>Polarity</th>\n",
              "    </tr>\n",
              "  </thead>\n",
              "  <tbody>\n",
              "    <tr>\n",
              "      <th>0</th>\n",
              "      <td>0.000000</td>\n",
              "      <td>0.998218</td>\n",
              "      <td>0.244583</td>\n",
              "      <td>0</td>\n",
              "    </tr>\n",
              "    <tr>\n",
              "      <th>1</th>\n",
              "      <td>0.272727</td>\n",
              "      <td>0.221451</td>\n",
              "      <td>0.267995</td>\n",
              "      <td>0</td>\n",
              "    </tr>\n",
              "    <tr>\n",
              "      <th>2</th>\n",
              "      <td>0.363636</td>\n",
              "      <td>0.198063</td>\n",
              "      <td>0.471208</td>\n",
              "      <td>0</td>\n",
              "    </tr>\n",
              "    <tr>\n",
              "      <th>3</th>\n",
              "      <td>0.272727</td>\n",
              "      <td>0.212835</td>\n",
              "      <td>0.467174</td>\n",
              "      <td>0</td>\n",
              "    </tr>\n",
              "    <tr>\n",
              "      <th>4</th>\n",
              "      <td>0.454545</td>\n",
              "      <td>0.225762</td>\n",
              "      <td>0.622575</td>\n",
              "      <td>0</td>\n",
              "    </tr>\n",
              "    <tr>\n",
              "      <th>...</th>\n",
              "      <td>...</td>\n",
              "      <td>...</td>\n",
              "      <td>...</td>\n",
              "      <td>...</td>\n",
              "    </tr>\n",
              "    <tr>\n",
              "      <th>475</th>\n",
              "      <td>0.176471</td>\n",
              "      <td>0.062359</td>\n",
              "      <td>0.506349</td>\n",
              "      <td>1</td>\n",
              "    </tr>\n",
              "    <tr>\n",
              "      <th>476</th>\n",
              "      <td>0.037203</td>\n",
              "      <td>0.000000</td>\n",
              "      <td>0.455246</td>\n",
              "      <td>1</td>\n",
              "    </tr>\n",
              "    <tr>\n",
              "      <th>477</th>\n",
              "      <td>0.048029</td>\n",
              "      <td>0.095503</td>\n",
              "      <td>0.592211</td>\n",
              "      <td>1</td>\n",
              "    </tr>\n",
              "    <tr>\n",
              "      <th>478</th>\n",
              "      <td>0.352941</td>\n",
              "      <td>0.066419</td>\n",
              "      <td>0.492107</td>\n",
              "      <td>1</td>\n",
              "    </tr>\n",
              "    <tr>\n",
              "      <th>479</th>\n",
              "      <td>0.058824</td>\n",
              "      <td>0.121201</td>\n",
              "      <td>0.633193</td>\n",
              "      <td>1</td>\n",
              "    </tr>\n",
              "  </tbody>\n",
              "</table>\n",
              "<p>480 rows × 4 columns</p>\n",
              "</div>\n",
              "    <div class=\"colab-df-buttons\">\n",
              "\n",
              "  <div class=\"colab-df-container\">\n",
              "    <button class=\"colab-df-convert\" onclick=\"convertToInteractive('df-bccad4fa-1ad1-4367-9ef7-c08d8a62e2c5')\"\n",
              "            title=\"Convert this dataframe to an interactive table.\"\n",
              "            style=\"display:none;\">\n",
              "\n",
              "  <svg xmlns=\"http://www.w3.org/2000/svg\" height=\"24px\" viewBox=\"0 -960 960 960\">\n",
              "    <path d=\"M120-120v-720h720v720H120Zm60-500h600v-160H180v160Zm220 220h160v-160H400v160Zm0 220h160v-160H400v160ZM180-400h160v-160H180v160Zm440 0h160v-160H620v160ZM180-180h160v-160H180v160Zm440 0h160v-160H620v160Z\"/>\n",
              "  </svg>\n",
              "    </button>\n",
              "\n",
              "  <style>\n",
              "    .colab-df-container {\n",
              "      display:flex;\n",
              "      gap: 12px;\n",
              "    }\n",
              "\n",
              "    .colab-df-convert {\n",
              "      background-color: #E8F0FE;\n",
              "      border: none;\n",
              "      border-radius: 50%;\n",
              "      cursor: pointer;\n",
              "      display: none;\n",
              "      fill: #1967D2;\n",
              "      height: 32px;\n",
              "      padding: 0 0 0 0;\n",
              "      width: 32px;\n",
              "    }\n",
              "\n",
              "    .colab-df-convert:hover {\n",
              "      background-color: #E2EBFA;\n",
              "      box-shadow: 0px 1px 2px rgba(60, 64, 67, 0.3), 0px 1px 3px 1px rgba(60, 64, 67, 0.15);\n",
              "      fill: #174EA6;\n",
              "    }\n",
              "\n",
              "    .colab-df-buttons div {\n",
              "      margin-bottom: 4px;\n",
              "    }\n",
              "\n",
              "    [theme=dark] .colab-df-convert {\n",
              "      background-color: #3B4455;\n",
              "      fill: #D2E3FC;\n",
              "    }\n",
              "\n",
              "    [theme=dark] .colab-df-convert:hover {\n",
              "      background-color: #434B5C;\n",
              "      box-shadow: 0px 1px 3px 1px rgba(0, 0, 0, 0.15);\n",
              "      filter: drop-shadow(0px 1px 2px rgba(0, 0, 0, 0.3));\n",
              "      fill: #FFFFFF;\n",
              "    }\n",
              "  </style>\n",
              "\n",
              "    <script>\n",
              "      const buttonEl =\n",
              "        document.querySelector('#df-bccad4fa-1ad1-4367-9ef7-c08d8a62e2c5 button.colab-df-convert');\n",
              "      buttonEl.style.display =\n",
              "        google.colab.kernel.accessAllowed ? 'block' : 'none';\n",
              "\n",
              "      async function convertToInteractive(key) {\n",
              "        const element = document.querySelector('#df-bccad4fa-1ad1-4367-9ef7-c08d8a62e2c5');\n",
              "        const dataTable =\n",
              "          await google.colab.kernel.invokeFunction('convertToInteractive',\n",
              "                                                    [key], {});\n",
              "        if (!dataTable) return;\n",
              "\n",
              "        const docLinkHtml = 'Like what you see? Visit the ' +\n",
              "          '<a target=\"_blank\" href=https://colab.research.google.com/notebooks/data_table.ipynb>data table notebook</a>'\n",
              "          + ' to learn more about interactive tables.';\n",
              "        element.innerHTML = '';\n",
              "        dataTable['output_type'] = 'display_data';\n",
              "        await google.colab.output.renderOutput(dataTable, element);\n",
              "        const docLink = document.createElement('div');\n",
              "        docLink.innerHTML = docLinkHtml;\n",
              "        element.appendChild(docLink);\n",
              "      }\n",
              "    </script>\n",
              "  </div>\n",
              "\n",
              "\n",
              "<div id=\"df-ea1654e1-90ac-45b3-af15-2a81a369597e\">\n",
              "  <button class=\"colab-df-quickchart\" onclick=\"quickchart('df-ea1654e1-90ac-45b3-af15-2a81a369597e')\"\n",
              "            title=\"Suggest charts\"\n",
              "            style=\"display:none;\">\n",
              "\n",
              "<svg xmlns=\"http://www.w3.org/2000/svg\" height=\"24px\"viewBox=\"0 0 24 24\"\n",
              "     width=\"24px\">\n",
              "    <g>\n",
              "        <path d=\"M19 3H5c-1.1 0-2 .9-2 2v14c0 1.1.9 2 2 2h14c1.1 0 2-.9 2-2V5c0-1.1-.9-2-2-2zM9 17H7v-7h2v7zm4 0h-2V7h2v10zm4 0h-2v-4h2v4z\"/>\n",
              "    </g>\n",
              "</svg>\n",
              "  </button>\n",
              "\n",
              "<style>\n",
              "  .colab-df-quickchart {\n",
              "      --bg-color: #E8F0FE;\n",
              "      --fill-color: #1967D2;\n",
              "      --hover-bg-color: #E2EBFA;\n",
              "      --hover-fill-color: #174EA6;\n",
              "      --disabled-fill-color: #AAA;\n",
              "      --disabled-bg-color: #DDD;\n",
              "  }\n",
              "\n",
              "  [theme=dark] .colab-df-quickchart {\n",
              "      --bg-color: #3B4455;\n",
              "      --fill-color: #D2E3FC;\n",
              "      --hover-bg-color: #434B5C;\n",
              "      --hover-fill-color: #FFFFFF;\n",
              "      --disabled-bg-color: #3B4455;\n",
              "      --disabled-fill-color: #666;\n",
              "  }\n",
              "\n",
              "  .colab-df-quickchart {\n",
              "    background-color: var(--bg-color);\n",
              "    border: none;\n",
              "    border-radius: 50%;\n",
              "    cursor: pointer;\n",
              "    display: none;\n",
              "    fill: var(--fill-color);\n",
              "    height: 32px;\n",
              "    padding: 0;\n",
              "    width: 32px;\n",
              "  }\n",
              "\n",
              "  .colab-df-quickchart:hover {\n",
              "    background-color: var(--hover-bg-color);\n",
              "    box-shadow: 0 1px 2px rgba(60, 64, 67, 0.3), 0 1px 3px 1px rgba(60, 64, 67, 0.15);\n",
              "    fill: var(--button-hover-fill-color);\n",
              "  }\n",
              "\n",
              "  .colab-df-quickchart-complete:disabled,\n",
              "  .colab-df-quickchart-complete:disabled:hover {\n",
              "    background-color: var(--disabled-bg-color);\n",
              "    fill: var(--disabled-fill-color);\n",
              "    box-shadow: none;\n",
              "  }\n",
              "\n",
              "  .colab-df-spinner {\n",
              "    border: 2px solid var(--fill-color);\n",
              "    border-color: transparent;\n",
              "    border-bottom-color: var(--fill-color);\n",
              "    animation:\n",
              "      spin 1s steps(1) infinite;\n",
              "  }\n",
              "\n",
              "  @keyframes spin {\n",
              "    0% {\n",
              "      border-color: transparent;\n",
              "      border-bottom-color: var(--fill-color);\n",
              "      border-left-color: var(--fill-color);\n",
              "    }\n",
              "    20% {\n",
              "      border-color: transparent;\n",
              "      border-left-color: var(--fill-color);\n",
              "      border-top-color: var(--fill-color);\n",
              "    }\n",
              "    30% {\n",
              "      border-color: transparent;\n",
              "      border-left-color: var(--fill-color);\n",
              "      border-top-color: var(--fill-color);\n",
              "      border-right-color: var(--fill-color);\n",
              "    }\n",
              "    40% {\n",
              "      border-color: transparent;\n",
              "      border-right-color: var(--fill-color);\n",
              "      border-top-color: var(--fill-color);\n",
              "    }\n",
              "    60% {\n",
              "      border-color: transparent;\n",
              "      border-right-color: var(--fill-color);\n",
              "    }\n",
              "    80% {\n",
              "      border-color: transparent;\n",
              "      border-right-color: var(--fill-color);\n",
              "      border-bottom-color: var(--fill-color);\n",
              "    }\n",
              "    90% {\n",
              "      border-color: transparent;\n",
              "      border-bottom-color: var(--fill-color);\n",
              "    }\n",
              "  }\n",
              "</style>\n",
              "\n",
              "  <script>\n",
              "    async function quickchart(key) {\n",
              "      const quickchartButtonEl =\n",
              "        document.querySelector('#' + key + ' button');\n",
              "      quickchartButtonEl.disabled = true;  // To prevent multiple clicks.\n",
              "      quickchartButtonEl.classList.add('colab-df-spinner');\n",
              "      try {\n",
              "        const charts = await google.colab.kernel.invokeFunction(\n",
              "            'suggestCharts', [key], {});\n",
              "      } catch (error) {\n",
              "        console.error('Error during call to suggestCharts:', error);\n",
              "      }\n",
              "      quickchartButtonEl.classList.remove('colab-df-spinner');\n",
              "      quickchartButtonEl.classList.add('colab-df-quickchart-complete');\n",
              "    }\n",
              "    (() => {\n",
              "      let quickchartButtonEl =\n",
              "        document.querySelector('#df-ea1654e1-90ac-45b3-af15-2a81a369597e button');\n",
              "      quickchartButtonEl.style.display =\n",
              "        google.colab.kernel.accessAllowed ? 'block' : 'none';\n",
              "    })();\n",
              "  </script>\n",
              "</div>\n",
              "    </div>\n",
              "  </div>\n"
            ]
          },
          "metadata": {},
          "execution_count": 90
        }
      ]
    },
    {
      "cell_type": "code",
      "source": [
        "with open(\"list_indexes_features.txt\", \"r\") as f:\n",
        "  list_indexes = f.read()\n",
        "\n",
        "# print(list_indexes) list of indexes in this variable"
      ],
      "metadata": {
        "id": "RbLC-k4hnl1B"
      },
      "execution_count": 91,
      "outputs": []
    },
    {
      "cell_type": "markdown",
      "source": [
        "# Logistic Regression using all the 3 features"
      ],
      "metadata": {
        "id": "fwbSskCwuLtE"
      }
    },
    {
      "cell_type": "code",
      "source": [
        "from sklearn.linear_model import LogisticRegression\n",
        "from sklearn.model_selection import train_test_split\n",
        "from sklearn.metrics import confusion_matrix\n",
        "\n",
        "regression_fts = final_fts.dropna()\n",
        "print(\"unique Polairty labels:\", regression_fts.Polarity.unique())\n",
        "\n",
        "\n",
        "feature_cols = ['DESPLd',\t'DESWLltd',\t'WORD_PROPERTY_WRDHYPn']\n",
        "X = regression_fts[feature_cols]\n",
        "y = regression_fts.Polarity #outcomes 0 or 1\n",
        "\n",
        "X_train, X_test, y_train, y_test = train_test_split(X, y, test_size=0.25, random_state=16)\n",
        "logistic_regression = LogisticRegression(random_state=16)\n",
        "logistic_regression.fit(X_train, y_train)\n",
        "\n",
        "y_pred = logistic_regression.predict(X_test)\n",
        "confussion_matrix = confusion_matrix(y_pred, y_test)\n",
        "\n",
        "outcomes = [\"Fake\",\"Real\"]\n",
        "ticks = np.arange(len(outcomes))\n",
        "\n",
        "fig, ax = plt.subplots()\n",
        "plt.xticks(ticks, outcomes)\n",
        "plt.yticks(ticks, outcomes)\n",
        "sns.heatmap(pd.DataFrame(confussion_matrix), annot=True, cmap=\"magma\", fmt=\"g\", xticklabels=outcomes, yticklabels=outcomes)\n",
        "ax.xaxis.set_label_position(\"top\")\n",
        "plt.tight_layout()\n",
        "plt.title(\"Confusion Matrix: DESPLd,DESWLltd,WORD_PROPERTY_WRDHYPn\", y = 1.1)\n",
        "plt.ylabel(\"Actual label\")\n",
        "plt.xlabel(\"Predicted label\")\n",
        "\n",
        "\n",
        "# print(confussion_matrix)\n",
        "\n",
        "print(\"94% right, missed 7/113\")\n"
      ],
      "metadata": {
        "id": "m4cAjFxa72v-",
        "colab": {
          "base_uri": "https://localhost:8080/",
          "height": 587
        },
        "outputId": "2fed7166-5e01-40ac-841c-85c2fa1fde5b"
      },
      "execution_count": 92,
      "outputs": [
        {
          "output_type": "stream",
          "name": "stdout",
          "text": [
            "unique Polairty labels: [0 1]\n",
            "94% right, missed 7/113\n"
          ]
        },
        {
          "output_type": "display_data",
          "data": {
            "text/plain": [
              "<Figure size 640x480 with 2 Axes>"
            ],
            "image/png": "[encoded data removed]"
          },
          "metadata": {}
        }
      ]
    },
    {
      "cell_type": "code",
      "source": [
        "from sklearn.metrics import classification_report\n",
        "\n",
        "scores_3_fts = classification_report(y_test, y_pred, target_names=outcomes)\n",
        "print(scores_3_fts)"
      ],
      "metadata": {
        "colab": {
          "base_uri": "https://localhost:8080/"
        },
        "id": "QH5E-teN_Ozr",
        "outputId": "adf2018f-ac9f-4ed0-db78-9ccb82903b6a"
      },
      "execution_count": 93,
      "outputs": [
        {
          "output_type": "stream",
          "name": "stdout",
          "text": [
            "              precision    recall  f1-score   support\n",
            "\n",
            "        Fake       0.98      0.87      0.92        46\n",
            "        Real       0.92      0.99      0.95        67\n",
            "\n",
            "    accuracy                           0.94       113\n",
            "   macro avg       0.95      0.93      0.93       113\n",
            "weighted avg       0.94      0.94      0.94       113\n",
            "\n"
          ]
        }
      ]
    },
    {
      "cell_type": "code",
      "source": [
        "from sklearn import model_selection\n",
        "import pickle\n",
        "\n",
        "pickle.dump(logistic_regression, open(\"lg_3_features\", \"wb\"))"
      ],
      "metadata": {
        "id": "StO9D57KxVAK"
      },
      "execution_count": 94,
      "outputs": []
    },
    {
      "cell_type": "markdown",
      "source": [
        "# Logistic Regression excluding different features each time"
      ],
      "metadata": {
        "id": "c9tXSqaGuQ9u"
      }
    },
    {
      "cell_type": "markdown",
      "source": [
        "DESWLltd and WORD_PROPERTY_WRDHYPn"
      ],
      "metadata": {
        "id": "jl9M7lDeAYZX"
      }
    },
    {
      "cell_type": "code",
      "source": [
        "from sklearn.linear_model import LogisticRegression\n",
        "from sklearn.model_selection import train_test_split\n",
        "from sklearn.metrics import confusion_matrix\n",
        "\n",
        "regression_fts = final_fts.dropna()\n",
        "print(\"unique Polairty labels:\", regression_fts.Polarity.unique())\n",
        "\n",
        "\n",
        "feature_cols = ['DESWLltd',\t'WORD_PROPERTY_WRDHYPn']\n",
        "X = regression_fts[feature_cols]\n",
        "y = regression_fts.Polarity #outcomes\n",
        "\n",
        "X_train, X_test, y_train, y_test = train_test_split(X, y, test_size=0.25, random_state=16)\n",
        "logistic_regression = LogisticRegression(random_state=16)\n",
        "logistic_regression.fit(X_train, y_train)\n",
        "\n",
        "y_pred = logistic_regression.predict(X_test)\n",
        "confussion_matrix = confusion_matrix(y_pred, y_test)\n",
        "\n",
        "\n",
        "outcomes = [\"Fake\",\"Real\"]\n",
        "ticks = np.arange(len(outcomes))\n",
        "\n",
        "fig, ax = plt.subplots()\n",
        "plt.xticks(ticks, outcomes)\n",
        "plt.yticks(ticks, outcomes)\n",
        "sns.heatmap(pd.DataFrame(confussion_matrix), annot=True,cmap=\"crest\", fmt=\"g\", xticklabels=outcomes, yticklabels=outcomes)\n",
        "\n",
        "ax.xaxis.set_label_position(\"top\")\n",
        "plt.tight_layout()\n",
        "plt.title(\"Confusion Matrix: DESWLltd,WORD_PROPERTY_WRDHYPn\", y = 1.1)\n",
        "plt.ylabel(\"Actual label\")\n",
        "plt.xlabel(\"Predicted label\")\n",
        "# print(confussion_matrix)\n",
        "\n",
        "print(\"excluding the DESPLd feature. 94% right, missed 7/113\")\n"
      ],
      "metadata": {
        "colab": {
          "base_uri": "https://localhost:8080/",
          "height": 587
        },
        "id": "22PQXvfWr8os",
        "outputId": "13a0a90c-895b-4845-b96a-d43cb9e742e4"
      },
      "execution_count": 95,
      "outputs": [
        {
          "output_type": "stream",
          "name": "stdout",
          "text": [
            "unique Polairty labels: [0 1]\n",
            "excluding the DESPLd feature. 94% right, missed 7/113\n"
          ]
        },
        {
          "output_type": "display_data",
          "data": {
            "text/plain": [
              "<Figure size 640x480 with 2 Axes>"
            ],
            "image/png": "[encoded data removed]"
          },
          "metadata": {}
        }
      ]
    },
    {
      "cell_type": "code",
      "source": [
        "scores_DESWLltd_WORD_PROPERTY_WRDHYPn = classification_report(y_test, y_pred, target_names=outcomes)\n",
        "print(scores_DESWLltd_WORD_PROPERTY_WRDHYPn)"
      ],
      "metadata": {
        "colab": {
          "base_uri": "https://localhost:8080/"
        },
        "id": "_Ci4s6IY_cJf",
        "outputId": "c125ae3d-a261-4999-b71b-97a20f4623a7"
      },
      "execution_count": 96,
      "outputs": [
        {
          "output_type": "stream",
          "name": "stdout",
          "text": [
            "              precision    recall  f1-score   support\n",
            "\n",
            "        Fake       1.00      0.85      0.92        46\n",
            "        Real       0.91      1.00      0.95        67\n",
            "\n",
            "    accuracy                           0.94       113\n",
            "   macro avg       0.95      0.92      0.93       113\n",
            "weighted avg       0.94      0.94      0.94       113\n",
            "\n"
          ]
        }
      ]
    },
    {
      "cell_type": "code",
      "source": [
        "pickle.dump(logistic_regression, open(\"lg_DESWLltd_WORD_PROPERTY_WRDHYPn\", \"wb\"))"
      ],
      "metadata": {
        "id": "v7x4dTSdySWu"
      },
      "execution_count": 97,
      "outputs": []
    },
    {
      "cell_type": "markdown",
      "source": [
        "DESPLd and\tWORD_PROPERTY_WRDHYPn"
      ],
      "metadata": {
        "id": "vTqzDlvqAgV-"
      }
    },
    {
      "cell_type": "code",
      "source": [
        "from sklearn.linear_model import LogisticRegression\n",
        "from sklearn.model_selection import train_test_split\n",
        "from sklearn.metrics import confusion_matrix\n",
        "\n",
        "regression_fts = final_fts.dropna()\n",
        "print(\"unique Polairty labels:\", regression_fts.Polarity.unique())\n",
        "\n",
        "\n",
        "feature_cols = ['DESPLd',\t'WORD_PROPERTY_WRDHYPn']\n",
        "X = regression_fts[feature_cols]\n",
        "y = regression_fts.Polarity #outcomes\n",
        "\n",
        "X_train, X_test, y_train, y_test = train_test_split(X, y, test_size=0.25, random_state=16)\n",
        "logistic_regression = LogisticRegression(random_state=16)\n",
        "logistic_regression.fit(X_train, y_train)\n",
        "\n",
        "y_pred = logistic_regression.predict(X_test)\n",
        "confussion_matrix = confusion_matrix(y_pred, y_test)\n",
        "\n",
        "outcomes = [\"Fake\",\"Real\"]\n",
        "ticks = np.arange(len(outcomes))\n",
        "\n",
        "fig, ax = plt.subplots()\n",
        "plt.xticks(ticks, outcomes)\n",
        "plt.yticks(ticks, outcomes)\n",
        "sns.heatmap(pd.DataFrame(confussion_matrix), annot=True,cmap=\"crest\", fmt=\"g\", xticklabels=outcomes, yticklabels=outcomes)\n",
        "ax.xaxis.set_label_position(\"top\")\n",
        "plt.tight_layout()\n",
        "plt.title(\"Confusion Matrix: DESPLd,WORD_PROPERTY_WRDHYPn\", y = 1.1)\n",
        "plt.ylabel(\"Actual label\")\n",
        "plt.xlabel(\"Predicted label\")\n",
        "\n",
        "# print(confussion_matrix)\n",
        "\n",
        "print(\"excluding the DESWLltd feature. 74% right, missed 29/113\")"
      ],
      "metadata": {
        "colab": {
          "base_uri": "https://localhost:8080/",
          "height": 587
        },
        "id": "uSpq6iylsTlN",
        "outputId": "bc2e057c-25b7-4c8c-90df-2239295ef8bf"
      },
      "execution_count": 98,
      "outputs": [
        {
          "output_type": "stream",
          "name": "stdout",
          "text": [
            "unique Polairty labels: [0 1]\n",
            "excluding the DESWLltd feature. 74% right, missed 29/113\n"
          ]
        },
        {
          "output_type": "display_data",
          "data": {
            "text/plain": [
              "<Figure size 640x480 with 2 Axes>"
            ],
            "image/png": "[encoded data removed]"
          },
          "metadata": {}
        }
      ]
    },
    {
      "cell_type": "code",
      "source": [
        "scores_DESPLd_WORD_PROPERTY_WRDHYPn = classification_report(y_test, y_pred, target_names=outcomes)\n",
        "print(scores_DESPLd_WORD_PROPERTY_WRDHYPn)"
      ],
      "metadata": {
        "colab": {
          "base_uri": "https://localhost:8080/"
        },
        "id": "vqlK2YZj_yCa",
        "outputId": "78eea783-3c19-4080-a3f1-cdaf5890f005"
      },
      "execution_count": 99,
      "outputs": [
        {
          "output_type": "stream",
          "name": "stdout",
          "text": [
            "              precision    recall  f1-score   support\n",
            "\n",
            "        Fake       0.69      0.67      0.68        46\n",
            "        Real       0.78      0.79      0.79        67\n",
            "\n",
            "    accuracy                           0.74       113\n",
            "   macro avg       0.73      0.73      0.73       113\n",
            "weighted avg       0.74      0.74      0.74       113\n",
            "\n"
          ]
        }
      ]
    },
    {
      "cell_type": "code",
      "source": [
        "pickle.dump(logistic_regression, open(\"lg_DESPLd_WORD_PROPERTY_WRDHYPn\", \"wb\"))"
      ],
      "metadata": {
        "id": "bZVGZoZryZ-Q"
      },
      "execution_count": 100,
      "outputs": []
    },
    {
      "cell_type": "markdown",
      "source": [
        "DESPLd and DESWLltd"
      ],
      "metadata": {
        "id": "xOqttscUAjfr"
      }
    },
    {
      "cell_type": "code",
      "source": [
        "from sklearn.linear_model import LogisticRegression\n",
        "from sklearn.model_selection import train_test_split\n",
        "from sklearn.metrics import confusion_matrix\n",
        "\n",
        "regression_fts = final_fts.dropna()\n",
        "print(\"unique Polairty labels:\", regression_fts.Polarity.unique())\n",
        "\n",
        "\n",
        "feature_cols = ['DESPLd',\t'DESWLltd']\n",
        "X = regression_fts[feature_cols]\n",
        "y = regression_fts.Polarity #outcomes\n",
        "\n",
        "X_train, X_test, y_train, y_test = train_test_split(X, y, test_size=0.25, random_state=16)\n",
        "logistic_regression = LogisticRegression(random_state=16)\n",
        "logistic_regression.fit(X_train, y_train)\n",
        "\n",
        "y_pred = logistic_regression.predict(X_test)\n",
        "confussion_matrix = confusion_matrix(y_pred, y_test)\n",
        "\n",
        "outcomes = [\"Fake\",\"Real\"]\n",
        "ticks = np.arange(len(outcomes))\n",
        "\n",
        "fig, ax = plt.subplots()\n",
        "plt.xticks(ticks, outcomes)\n",
        "plt.yticks(ticks, outcomes)\n",
        "sns.heatmap(pd.DataFrame(confussion_matrix), annot=True, cmap=\"crest\", fmt=\"g\", xticklabels=outcomes, yticklabels=outcomes)\n",
        "ax.xaxis.set_label_position(\"top\")\n",
        "plt.tight_layout()\n",
        "plt.title(\"Confusion Matrix: DESPLd,DESWLltd\", y = 1.1)\n",
        "plt.ylabel(\"Actual label\")\n",
        "plt.xlabel(\"Predicted label\")\n",
        "\n",
        "# print(confussion_matrix)\n",
        "\n",
        "print(\"excluding the WORD_PROPERTY_WRDHYPn feature. 93% right, missed 8/113\")\n",
        "\n"
      ],
      "metadata": {
        "colab": {
          "base_uri": "https://localhost:8080/",
          "height": 587
        },
        "id": "1S8rOtMzsyQE",
        "outputId": "0339ff89-fc33-40c3-9026-4e0ac24185a9"
      },
      "execution_count": 101,
      "outputs": [
        {
          "output_type": "stream",
          "name": "stdout",
          "text": [
            "unique Polairty labels: [0 1]\n",
            "excluding the WORD_PROPERTY_WRDHYPn feature. 93% right, missed 8/113\n"
          ]
        },
        {
          "output_type": "display_data",
          "data": {
            "text/plain": [
              "<Figure size 640x480 with 2 Axes>"
            ],
            "image/png": "[encoded data removed]"
          },
          "metadata": {}
        }
      ]
    },
    {
      "cell_type": "code",
      "source": [
        "scores_DESPLd_DESWLltd = classification_report(y_test, y_pred, target_names=outcomes)\n",
        "print(scores_DESPLd_DESWLltd)"
      ],
      "metadata": {
        "colab": {
          "base_uri": "https://localhost:8080/"
        },
        "id": "IXE1Isji_-lA",
        "outputId": "f49516a5-ccf8-4554-d38d-a3d3236a5b82"
      },
      "execution_count": 102,
      "outputs": [
        {
          "output_type": "stream",
          "name": "stdout",
          "text": [
            "              precision    recall  f1-score   support\n",
            "\n",
            "        Fake       0.97      0.85      0.91        46\n",
            "        Real       0.90      0.99      0.94        67\n",
            "\n",
            "    accuracy                           0.93       113\n",
            "   macro avg       0.94      0.92      0.92       113\n",
            "weighted avg       0.93      0.93      0.93       113\n",
            "\n"
          ]
        }
      ]
    },
    {
      "cell_type": "code",
      "source": [
        "pickle.dump(logistic_regression, open(\"lg_DESPLd_DESWLltd\", \"wb\"))"
      ],
      "metadata": {
        "id": "EY0pjLcxyyt-"
      },
      "execution_count": 103,
      "outputs": []
    },
    {
      "cell_type": "markdown",
      "source": [
        "# Logistic Regression using only our OP feature"
      ],
      "metadata": {
        "id": "zqEOsnq9uYnW"
      }
    },
    {
      "cell_type": "markdown",
      "source": [
        "DESWLltd\n",
        "\n",
        "![OP feature probability distribution graphic.png](data:image/png;base64,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)\n",
        "\n",
        "\n"
      ],
      "metadata": {
        "id": "bhlYEnlZAtcK"
      }
    },
    {
      "cell_type": "code",
      "source": [
        "from sklearn.linear_model import LogisticRegression\n",
        "from sklearn.model_selection import train_test_split\n",
        "from sklearn.metrics import confusion_matrix\n",
        "\n",
        "regression_fts = final_fts.dropna()\n",
        "print(\"unique Polairty labels:\", regression_fts.Polarity.unique())\n",
        "\n",
        "\n",
        "feature_cols = ['DESWLltd']\n",
        "X = regression_fts[feature_cols]\n",
        "y = regression_fts.Polarity #outcomes\n",
        "\n",
        "X_train, X_test, y_train, y_test = train_test_split(X, y, test_size=0.25, random_state=16)\n",
        "logistic_regression = LogisticRegression(random_state=16)\n",
        "logistic_regression.fit(X_train, y_train)\n",
        "\n",
        "y_pred = logistic_regression.predict(X_test)\n",
        "confussion_matrix = confusion_matrix(y_pred, y_test)\n",
        "\n",
        "outcomes = [\"Fake\",\"Real\"]\n",
        "ticks = np.arange(len(outcomes))\n",
        "\n",
        "fig, ax = plt.subplots()\n",
        "plt.xticks(ticks, outcomes)\n",
        "plt.yticks(ticks, outcomes)\n",
        "sns.heatmap(pd.DataFrame(confussion_matrix), annot=True, cmap=\"flare\", fmt=\"g\", xticklabels=outcomes, yticklabels=outcomes)\n",
        "ax.xaxis.set_label_position(\"top\")\n",
        "plt.tight_layout()\n",
        "plt.title(\"Confusion Matrix: DESWLltd\", y = 1.1)\n",
        "plt.ylabel(\"Actual label\")\n",
        "plt.xlabel(\"Predicted label\")\n",
        "\n",
        "# print(confussion_matrix)\n",
        "\n",
        "print(\"Just using the DESWLltd feature. 95.5% right, missed 5/113\")"
      ],
      "metadata": {
        "colab": {
          "base_uri": "https://localhost:8080/",
          "height": 587
        },
        "id": "Gq1-f8bqtKjr",
        "outputId": "a72f70b6-d549-4c58-f2b0-5c715c6e2030"
      },
      "execution_count": 104,
      "outputs": [
        {
          "output_type": "stream",
          "name": "stdout",
          "text": [
            "unique Polairty labels: [0 1]\n",
            "Just using the DESWLltd feature. 95.5% right, missed 5/113\n"
          ]
        },
        {
          "output_type": "display_data",
          "data": {
            "text/plain": [
              "<Figure size 640x480 with 2 Axes>"
            ],
            "image/png": "[encoded data removed]"
          },
          "metadata": {}
        }
      ]
    },
    {
      "cell_type": "code",
      "source": [
        "scores_DESWLltd = classification_report(y_test, y_pred, target_names=outcomes)\n",
        "print(scores_DESWLltd)"
      ],
      "metadata": {
        "colab": {
          "base_uri": "https://localhost:8080/"
        },
        "id": "NYJv3QL3AKt6",
        "outputId": "ef9f4591-71b5-4cce-a008-ff00398fb348"
      },
      "execution_count": 105,
      "outputs": [
        {
          "output_type": "stream",
          "name": "stdout",
          "text": [
            "              precision    recall  f1-score   support\n",
            "\n",
            "        Fake       1.00      0.89      0.94        46\n",
            "        Real       0.93      1.00      0.96        67\n",
            "\n",
            "    accuracy                           0.96       113\n",
            "   macro avg       0.97      0.95      0.95       113\n",
            "weighted avg       0.96      0.96      0.96       113\n",
            "\n"
          ]
        }
      ]
    },
    {
      "cell_type": "code",
      "source": [
        "pickle.dump(logistic_regression, open(\"lg_DESWLltd\", \"wb\"))"
      ],
      "metadata": {
        "id": "s9wzYkbqy_87"
      },
      "execution_count": 106,
      "outputs": []
    },
    {
      "cell_type": "code",
      "source": [
        "\n",
        "'''\n",
        "\n",
        "small crossvalidation to make sure model is stableand std bt the scores , lucky distr.\n",
        "\n",
        "data augmentation - + at the end with the generation model, feed the model with new elements\n",
        "\n",
        "method to input some text and see the prediction irt,\n",
        "automatically add fake news text to the data\n",
        "\n",
        "\n",
        "this is quant but we need qualitative\n",
        "\n",
        "SMOTE libary for DAug\n",
        "\n",
        "name of the file and template of the acl file - subsections things\n",
        "\n",
        "qualitative vs quantitative studies\n",
        "\n",
        "'''"
      ],
      "metadata": {
        "id": "TDWmOKmHtg1h",
        "colab": {
          "base_uri": "https://localhost:8080/",
          "height": 91
        },
        "outputId": "e9537299-c100-48c7-cadf-e0d8c4efef7b"
      },
      "execution_count": 107,
      "outputs": [
        {
          "output_type": "execute_result",
          "data": {
            "text/plain": [
              "'\\n\\nsmall crossvalidation to make sure model is stableand std bt the scores , lucky distr.\\n\\ndata augmentation - + at the end with the generation model, feed the model with new elements\\n\\nmethod to input some text and see the prediction irt,\\nautomatically add fake news text to the data\\n\\n\\nthis is quant but we need qualitative\\n\\nSMOTE libary for DAug\\n\\nname of the file and template of the acl file - subsections things\\n\\nqualitative vs quantitative studies\\n\\n'"
            ],
            "application/vnd.google.colaboratory.intrinsic+json": {
              "type": "string"
            }
          },
          "metadata": {},
          "execution_count": 107
        }
      ]
    }
  ]
}